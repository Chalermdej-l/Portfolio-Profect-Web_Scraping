{
 "cells": [
  {
   "cell_type": "code",
   "execution_count": null,
   "metadata": {},
   "outputs": [],
   "source": [
    "import pandas as pd\n",
    "import glob\n",
    "import pyodbc as py\n",
    "from config import configscape"
   ]
  },
  {
   "cell_type": "code",
   "execution_count": null,
   "metadata": {},
   "outputs": [],
   "source": [
    "def loadreservationsql(data,query):\n",
    "    \n",
    "    Driver          = configscape.Driver\n",
    "    Server_name     = configscape.Server_name\n",
    "    Database_name   = configscape.Database_name\n",
    "\n",
    "    conn_string = f\"\"\" \n",
    "    Driver={{{Driver}}};\n",
    "    Server={Server_name};\n",
    "    Database={Database_name};\n",
    "    Trusted_Connection=yes;\n",
    "    \"\"\"\n",
    "    \n",
    "    con = py.connect(conn_string)\n",
    "    cursor = con.cursor() \n",
    "    cursor.fast_executemany = True\n",
    "    \n",
    "    inputsize =configscape.inputsize\n",
    "    cursor.setinputsizes(inputsize)\n",
    "\n",
    "    try:\n",
    "        print('Inserting Reservation...')\n",
    "        result = cursor.executemany(query,data)\n",
    "        cursor.commit()       \n",
    "    except Exception as er:\n",
    "        print('An Error Occur')\n",
    "        print(er)\n",
    "        cursor.close()\n",
    "        con.close()\n",
    "        print('Closing SQL Connection')\n",
    "        return 'Error'\n"
   ]
  },
  {
   "cell_type": "code",
   "execution_count": null,
   "metadata": {},
   "outputs": [],
   "source": [
    "def combinefile():\n",
    "    list_output = glob.glob(r'Output/*.csv')\n",
    "    combine_list = pd.DataFrame()\n",
    "    for file in list_output:\n",
    "        combine_list =combine_list.append(pd.read_csv(file,sep=','))\n",
    "    strlist = combine_list.dtypes[combine_list.dtypes =='object'].index\n",
    "    combine_list = combine_list.drop_duplicates()\n",
    "    combine_list[strlist] =combine_list[strlist].astype('string') \n",
    "    combine_list['dest_ufi'] =combine_list['dest_ufi'].astype('float') \n",
    "    combine_list['inuse'] = 0\n",
    "    combine_list.columns = configscape.col_name\n",
    "    combine_list = combine_list[configscape.order_col].fillna(0)\n",
    "\n",
    "    return combine_list"
   ]
  },
  {
   "cell_type": "code",
   "execution_count": null,
   "metadata": {},
   "outputs": [],
   "source": [
    "file_combine= combinefile()\n",
    "# file_combine.to_csv('Combine_task.csv')\n",
    "loadreservationsql(file_combine.values.tolist(),configscape.query)"
   ]
  }
 ],
 "metadata": {
  "kernelspec": {
   "display_name": "Python 3.9.7 64-bit",
   "language": "python",
   "name": "python3"
  },
  "language_info": {
   "codemirror_mode": {
    "name": "ipython",
    "version": 3
   },
   "file_extension": ".py",
   "mimetype": "text/x-python",
   "name": "python",
   "nbconvert_exporter": "python",
   "pygments_lexer": "ipython3",
   "version": "3.9.7"
  },
  "orig_nbformat": 4,
  "vscode": {
   "interpreter": {
    "hash": "601b049b69c015f341cf049bdfa863242bcd463fff4e9ea5ae96948b9f5d87db"
   }
  }
 },
 "nbformat": 4,
 "nbformat_minor": 2
}
