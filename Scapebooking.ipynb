{
 "cells": [
  {
   "cell_type": "code",
   "execution_count": 1,
   "metadata": {},
   "outputs": [],
   "source": [
    "import os\n",
    "import glob"
   ]
  },
  {
   "cell_type": "code",
   "execution_count": 2,
   "metadata": {},
   "outputs": [],
   "source": [
    "def master_node(node=10,countrycode='th'):\n",
    "    with open(f'Hotel_url/url_country_{countrycode}.csv','r') as text:\n",
    "        total_record = text.read()\n",
    "    \n",
    "    total_record = len(total_record.split('\\n'))-2\n",
    "    call_pernode = round(total_record/node)\n",
    "\n",
    "    print(f'Excting function with {node} nodes. For code {countrycode}')\n",
    "    print(f'There are total of {total_record} in the file. Per node {call_pernode}')\n",
    "    print('-----------------------------------------------------------------')\n",
    "    list_worker = glob.glob('*.py')\n",
    "    for file in list_worker:\n",
    "        os.remove(file)\n",
    "\n",
    "    with open('template.txt','r') as text:\n",
    "        template = text.read()\n",
    "\n",
    "    template = template.replace('templlate_3',\"'\"+str(countrycode)+\"'\")\n",
    "    template_file = template\n",
    "\n",
    "    worker_list = ''\n",
    "    print('Creating worker.')\n",
    "    print('-----------------------------------------------------------------')\n",
    "    for i in range(0,node):\n",
    "        to_ = (i+1)*call_pernode \n",
    "        if i+1 == node:\n",
    "            to_ = total_record\n",
    "        template_file = template_file.replace('templlate_2',str(to_))\n",
    "        template_file = template_file.replace('templlate_1',str(call_pernode*i))\n",
    "\n",
    "        with open(f'worker{i+1}.py','w') as worker:\n",
    "            worker.write(template_file)\n",
    "\n",
    "        template_file = template\n",
    "        worker_list = worker_list + f'start python worker{i+1}.py & '\n",
    "    worker_list= worker_list[:-2]\n",
    "    print('Execting worker.')\n",
    "    print('-----------------------------------------------------------------')\n",
    "\n",
    "    # Run the \"Run.bat\" to excute the scripts\n",
    "    os.system(worker_list)\n",
    "    print('Finish Excuting node.')"
   ]
  },
  {
   "cell_type": "code",
   "execution_count": 3,
   "metadata": {},
   "outputs": [
    {
     "name": "stdout",
     "output_type": "stream",
     "text": [
      "Excting function with 10 nodes. For code th\n",
      "There are total of 19734 in the file. Per node 1973\n",
      "-----------------------------------------------------------------\n",
      "Creating worker.\n",
      "-----------------------------------------------------------------\n",
      "Execting worker.\n",
      "-----------------------------------------------------------------\n",
      "Finish Excuting node.\n"
     ]
    }
   ],
   "source": [
    "master_node(10,'th')"
   ]
  },
  {
   "cell_type": "code",
   "execution_count": null,
   "metadata": {},
   "outputs": [],
   "source": []
  }
 ],
 "metadata": {
  "kernelspec": {
   "display_name": "Python 3.9.7 64-bit",
   "language": "python",
   "name": "python3"
  },
  "language_info": {
   "codemirror_mode": {
    "name": "ipython",
    "version": 3
   },
   "file_extension": ".py",
   "mimetype": "text/x-python",
   "name": "python",
   "nbconvert_exporter": "python",
   "pygments_lexer": "ipython3",
   "version": "3.9.7"
  },
  "orig_nbformat": 4,
  "vscode": {
   "interpreter": {
    "hash": "601b049b69c015f341cf049bdfa863242bcd463fff4e9ea5ae96948b9f5d87db"
   }
  }
 },
 "nbformat": 4,
 "nbformat_minor": 2
}
