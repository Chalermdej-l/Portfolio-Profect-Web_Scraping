{
 "cells": [
  {
   "cell_type": "code",
   "execution_count": 1,
   "metadata": {},
   "outputs": [],
   "source": [
    "import requests\n",
    "import pandas as pd\n",
    "from bs4 import BeautifulSoup"
   ]
  },
  {
   "cell_type": "code",
   "execution_count": 2,
   "metadata": {},
   "outputs": [],
   "source": [
    "def geturl():\n",
    "    result_list =requests.get('https://www.booking.com/sitembk-hotel-index.xml')\n",
    "    soup = BeautifulSoup(result_list.content)\n",
    "    links = soup.select('loc:-soup-contains(\"en-us\")')\n",
    "    series= pd.Series(dtype='object')\n",
    "    for i in links:   \n",
    "        hotel_list= requests.get(i.text,stream=True)\n",
    "        with open('ab.xml.gz',mode='wb') as f :\n",
    "            f.write(hotel_list.content)\n",
    "        link = pd.read_xml('ab.xml.gz')['loc']\n",
    "        round = 0\n",
    "        series = series.append(link)\n",
    "    url_hoteldf = pd.DataFrame(series,columns=['code'])\n",
    "    url_hoteldf['country_code'] = url_hoteldf['code'].str[30:32]\n",
    "    list_country =url_hoteldf['country_code'].unique().tolist()\n",
    "    for i in list_country:\n",
    "        url_hoteldf[url_hoteldf['country_code']==i].reset_index(drop=True).to_csv(f'Hotel_url\\\\url_country_{i}.csv')"
   ]
  },
  {
   "cell_type": "code",
   "execution_count": null,
   "metadata": {},
   "outputs": [],
   "source": [
    "geturl()"
   ]
  }
 ],
 "metadata": {
  "kernelspec": {
   "display_name": "Python 3.9.7 64-bit",
   "language": "python",
   "name": "python3"
  },
  "language_info": {
   "codemirror_mode": {
    "name": "ipython",
    "version": 3
   },
   "file_extension": ".py",
   "mimetype": "text/x-python",
   "name": "python",
   "nbconvert_exporter": "python",
   "pygments_lexer": "ipython3",
   "version": "3.9.7"
  },
  "orig_nbformat": 4,
  "vscode": {
   "interpreter": {
    "hash": "601b049b69c015f341cf049bdfa863242bcd463fff4e9ea5ae96948b9f5d87db"
   }
  }
 },
 "nbformat": 4,
 "nbformat_minor": 2
}
